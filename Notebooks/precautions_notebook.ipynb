{
 "cells": [
  {
   "cell_type": "code",
   "execution_count": 2,
   "metadata": {},
   "outputs": [],
   "source": [
    "# import necessary libraries\n",
    "import pandas as pd\n",
    "import numpy as np\n",
    "import ast\n"
   ]
  },
  {
   "cell_type": "code",
   "execution_count": 17,
   "metadata": {},
   "outputs": [],
   "source": [
    "conditions_df = pd.read_csv('..\\\\Datasets\\\\Patient-disease-symptom\\\\final datasets\\\\conditions.csv')\n",
    "release_conditions_df = pd.read_json('..\\\\Datasets\\\\Patient-disease-symptom\\\\release_conditions.json')\n",
    "disease_precaution_df = pd.read_csv('..\\Datasets\\Disease-symptom\\disease_precaution.csv')\n"
   ]
  },
  {
   "cell_type": "code",
   "execution_count": 11,
   "metadata": {},
   "outputs": [],
   "source": [
    "# get the diseases in conditions_df\n",
    "conditions = conditions_df['condition'].unique()"
   ]
  },
  {
   "cell_type": "code",
   "execution_count": 12,
   "metadata": {},
   "outputs": [
    {
     "data": {
      "text/plain": [
       "49"
      ]
     },
     "execution_count": 12,
     "metadata": {},
     "output_type": "execute_result"
    }
   ],
   "source": [
    "len(conditions)"
   ]
  },
  {
   "cell_type": "code",
   "execution_count": 13,
   "metadata": {},
   "outputs": [],
   "source": [
    "# get the conditions in disease_precaution_df\n",
    "diseases = disease_precaution_df['Disease'].unique()"
   ]
  },
  {
   "cell_type": "code",
   "execution_count": 15,
   "metadata": {},
   "outputs": [
    {
     "data": {
      "text/plain": [
       "42"
      ]
     },
     "execution_count": 15,
     "metadata": {},
     "output_type": "execute_result"
    }
   ],
   "source": [
    "len(diseases)"
   ]
  },
  {
   "cell_type": "code",
   "execution_count": 21,
   "metadata": {},
   "outputs": [],
   "source": [
    "# Let's create a dataframe with the evidences\n",
    "df = pd.DataFrame(columns=['condition'])\n",
    "for condition in release_conditions_df:\n",
    "    conditions = release_conditions_df[condition]['cond-name-eng']\n",
    "    df = pd.concat([df, pd.DataFrame([[conditions]], columns=['condition'])], ignore_index=True)"
   ]
  },
  {
   "cell_type": "code",
   "execution_count": 22,
   "metadata": {},
   "outputs": [
    {
     "data": {
      "text/html": [
       "<div>\n",
       "<style scoped>\n",
       "    .dataframe tbody tr th:only-of-type {\n",
       "        vertical-align: middle;\n",
       "    }\n",
       "\n",
       "    .dataframe tbody tr th {\n",
       "        vertical-align: top;\n",
       "    }\n",
       "\n",
       "    .dataframe thead th {\n",
       "        text-align: right;\n",
       "    }\n",
       "</style>\n",
       "<table border=\"1\" class=\"dataframe\">\n",
       "  <thead>\n",
       "    <tr style=\"text-align: right;\">\n",
       "      <th></th>\n",
       "      <th>condition</th>\n",
       "    </tr>\n",
       "  </thead>\n",
       "  <tbody>\n",
       "    <tr>\n",
       "      <th>0</th>\n",
       "      <td>Spontaneous pneumothorax</td>\n",
       "    </tr>\n",
       "    <tr>\n",
       "      <th>1</th>\n",
       "      <td>Cluster headache</td>\n",
       "    </tr>\n",
       "    <tr>\n",
       "      <th>2</th>\n",
       "      <td>Boerhaave</td>\n",
       "    </tr>\n",
       "    <tr>\n",
       "      <th>3</th>\n",
       "      <td>Spontaneous rib fracture</td>\n",
       "    </tr>\n",
       "    <tr>\n",
       "      <th>4</th>\n",
       "      <td>GERD</td>\n",
       "    </tr>\n",
       "  </tbody>\n",
       "</table>\n",
       "</div>"
      ],
      "text/plain": [
       "                  condition\n",
       "0  Spontaneous pneumothorax\n",
       "1          Cluster headache\n",
       "2                 Boerhaave\n",
       "3  Spontaneous rib fracture\n",
       "4                      GERD"
      ]
     },
     "execution_count": 22,
     "metadata": {},
     "output_type": "execute_result"
    }
   ],
   "source": [
    "df.head()"
   ]
  },
  {
   "cell_type": "code",
   "execution_count": 24,
   "metadata": {},
   "outputs": [
    {
     "name": "stdout",
     "output_type": "stream",
     "text": [
      "['Spontaneous pneumothorax' 'Cluster headache' 'Boerhaave'\n",
      " 'Spontaneous rib fracture' 'GERD' 'HIV (initial infection)' 'Anemia'\n",
      " 'Viral pharyngitis' 'Inguinal hernia' 'Myasthenia gravis'\n",
      " 'Whooping cough' 'Anaphylaxis' 'Epiglottitis' 'Guillain-Barré syndrome'\n",
      " 'Acute laryngitis' 'Croup' 'PSVT' 'Atrial fibrillation' 'Bronchiectasis'\n",
      " 'Allergic sinusitis' 'Chagas' 'Scombroid food poisoning' 'Myocarditis'\n",
      " 'Larygospasm' 'Acute dystonic reactions' 'Localized edema' 'SLE'\n",
      " 'Tuberculosis' 'Unstable angina' 'Stable angina' 'Ebola'\n",
      " 'Acute otitis media' 'Panic attack'\n",
      " 'Bronchospasm / acute asthma exacerbation' 'Bronchitis'\n",
      " 'Acute COPD exacerbation / infection' 'Pulmonary embolism' 'URTI'\n",
      " 'Influenza' 'Pneumonia' 'Acute rhinosinusitis' 'Chronic rhinosinusitis'\n",
      " 'Bronchiolitis' 'Pulmonary neoplasm' 'Possible NSTEMI / STEMI'\n",
      " 'Sarcoidosis' 'Pancreatic neoplasm' 'Acute pulmonary edema'\n",
      " 'Pericarditis']\n",
      "['AIDS' 'Acne' 'Alcoholic hepatitis' 'Allergy' 'Arthritis'\n",
      " 'Bronchial Asthma' 'Cervical spondylosis' 'Chicken pox'\n",
      " 'Chronic cholestasis' 'Common Cold' 'Covid' 'Dengue' 'Diabetes '\n",
      " 'Dimorphic hemorrhoids(piles)' 'Drug Reaction' 'Fungal infection' 'GERD'\n",
      " 'Gastroenteritis' 'Heart attack' 'Hepatitis A' 'Hepatitis B'\n",
      " 'Hepatitis C' 'Hepatitis D' 'Hepatitis E' 'Hypertension '\n",
      " 'Hyperthyroidism' 'Hypoglycemia' 'Hypothyroidism' 'Impetigo' 'Jaundice'\n",
      " 'Malaria' 'Migraine' 'Osteoarthritis' 'Paralysis (brain hemorrhage)'\n",
      " 'Paroxysmal Positional Vertigo' 'Peptic ulcer disease' 'Pneumonia'\n",
      " 'Psoriasis' 'Tuberculosis' 'Typhoid' 'Urinary tract infection'\n",
      " 'Varicose veins']\n"
     ]
    }
   ],
   "source": [
    "# check if conditions in df are the same in codtions in disease_precaution_df\n",
    "diseases = disease_precaution_df['Disease'].unique()\n",
    "diseases_in_df = df['condition'].unique()\n",
    "\n",
    "# make the conditions in dfs lowercase\n",
    "df['condition'] = df['condition'].str.lower()\n",
    "disease_precaution_df['Disease'] = disease_precaution_df['Disease'].str.lower()\n",
    "\n",
    "print(diseases_in_df)\n",
    "print(diseases)\n"
   ]
  },
  {
   "cell_type": "code",
   "execution_count": null,
   "metadata": {},
   "outputs": [],
   "source": []
  }
 ],
 "metadata": {
  "kernelspec": {
   "display_name": "dmlearning",
   "language": "python",
   "name": "python3"
  },
  "language_info": {
   "codemirror_mode": {
    "name": "ipython",
    "version": 3
   },
   "file_extension": ".py",
   "mimetype": "text/x-python",
   "name": "python",
   "nbconvert_exporter": "python",
   "pygments_lexer": "ipython3",
   "version": "3.9.13"
  },
  "orig_nbformat": 4
 },
 "nbformat": 4,
 "nbformat_minor": 2
}

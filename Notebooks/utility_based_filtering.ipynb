{
  "cells": [
    {
      "attachments": {},
      "cell_type": "markdown",
      "metadata": {
        "id": "dn2yfMRfNaWD"
      },
      "source": [
        "# <center>Utility based filtering - Recommendation system</center>"
      ]
    },
    {
      "cell_type": "markdown",
      "metadata": {
        "id": "hNp_8Zn24K-2"
      },
      "source": [
        "The goal is to create a dataset with diseases and their symptoms using the descriptions of pathologies (json file)"
      ]
    },
    {
      "cell_type": "code",
      "execution_count": 1,
      "metadata": {
        "id": "h7Boss2T3t08"
      },
      "outputs": [],
      "source": [
        "# import necessary libraries\n",
        "import pandas as pd\n",
        "import numpy as np\n",
        "import ast\n",
        "from sklearn.preprocessing import MultiLabelBinarizer"
      ]
    },
    {
      "cell_type": "markdown",
      "metadata": {
        "id": "HekltAN3NqP0"
      },
      "source": [
        "## Loading dataset using Dask"
      ]
    },
    {
      "cell_type": "code",
      "execution_count": 2,
      "metadata": {
        "id": "2KxYeDO79HQ_"
      },
      "outputs": [],
      "source": [
        "# load the dataset\n",
        "# json files\n",
        "release_evidences_df = pd.read_json('..\\\\Datasets\\\\Patient-disease-symptom\\\\release_evidences.json')\n",
        "release_conditions_df = pd.read_json('..\\\\Datasets\\\\Patient-disease-symptom\\\\release_conditions.json')"
      ]
    },
    {
      "attachments": {},
      "cell_type": "markdown",
      "metadata": {},
      "source": [
        "# Explore data"
      ]
    },
    {
      "cell_type": "code",
      "execution_count": 3,
      "metadata": {
        "colab": {
          "base_uri": "https://localhost:8080/",
          "height": 553
        },
        "id": "K4qMsZSc37EJ",
        "outputId": "abfd9e54-a119-4dd8-abec-438ff9cd10cd"
      },
      "outputs": [
        {
          "data": {
            "text/html": [
              "<div>\n",
              "<style scoped>\n",
              "    .dataframe tbody tr th:only-of-type {\n",
              "        vertical-align: middle;\n",
              "    }\n",
              "\n",
              "    .dataframe tbody tr th {\n",
              "        vertical-align: top;\n",
              "    }\n",
              "\n",
              "    .dataframe thead th {\n",
              "        text-align: right;\n",
              "    }\n",
              "</style>\n",
              "<table border=\"1\" class=\"dataframe\">\n",
              "  <thead>\n",
              "    <tr style=\"text-align: right;\">\n",
              "      <th></th>\n",
              "      <th>Pneumothorax spontané</th>\n",
              "      <th>Céphalée en grappe</th>\n",
              "      <th>Syndrome de Boerhaave</th>\n",
              "      <th>Fracture de côte spontanée</th>\n",
              "      <th>RGO</th>\n",
              "      <th>VIH (Primo-infection)</th>\n",
              "      <th>Anémie</th>\n",
              "      <th>Pharyngite virale</th>\n",
              "      <th>Hernie inguinale</th>\n",
              "      <th>Myasthénie grave</th>\n",
              "      <th>...</th>\n",
              "      <th>Pneumonie</th>\n",
              "      <th>Rhinosinusite aigue</th>\n",
              "      <th>Rhinosinusite chronique</th>\n",
              "      <th>Bronchiolite</th>\n",
              "      <th>néoplasie pulmonaire</th>\n",
              "      <th>Possible NSTEMI / STEMI</th>\n",
              "      <th>Sarcoïdose</th>\n",
              "      <th>Néoplasie du pancréas</th>\n",
              "      <th>OAP/Surcharge pulmonaire</th>\n",
              "      <th>Péricardite</th>\n",
              "    </tr>\n",
              "  </thead>\n",
              "  <tbody>\n",
              "    <tr>\n",
              "      <th>condition_name</th>\n",
              "      <td>Pneumothorax spontané</td>\n",
              "      <td>Céphalée en grappe</td>\n",
              "      <td>Syndrome de Boerhaave</td>\n",
              "      <td>Fracture de côte spontanée</td>\n",
              "      <td>RGO</td>\n",
              "      <td>VIH (Primo-infection)</td>\n",
              "      <td>Anémie</td>\n",
              "      <td>Pharyngite virale</td>\n",
              "      <td>Hernie inguinale</td>\n",
              "      <td>Myasthénie grave</td>\n",
              "      <td>...</td>\n",
              "      <td>Pneumonie</td>\n",
              "      <td>Rhinosinusite aigue</td>\n",
              "      <td>Rhinosinusite chronique</td>\n",
              "      <td>Bronchiolite</td>\n",
              "      <td>néoplasie pulmonaire</td>\n",
              "      <td>Possible NSTEMI / STEMI</td>\n",
              "      <td>Sarcoïdose</td>\n",
              "      <td>Néoplasie du pancréas</td>\n",
              "      <td>OAP/Surcharge pulmonaire</td>\n",
              "      <td>Péricardite</td>\n",
              "    </tr>\n",
              "    <tr>\n",
              "      <th>cond-name-fr</th>\n",
              "      <td>Pneumothorax spontané</td>\n",
              "      <td>Céphalée en grappe</td>\n",
              "      <td>Syndrome de Boerhaave</td>\n",
              "      <td>Fracture de côte spontanée</td>\n",
              "      <td>RGO</td>\n",
              "      <td>VIH (Primo-infection)</td>\n",
              "      <td>Anémie</td>\n",
              "      <td>Pharyngite virale</td>\n",
              "      <td>Hernie inguinale</td>\n",
              "      <td>Myasthénie grave</td>\n",
              "      <td>...</td>\n",
              "      <td>Pneumonie</td>\n",
              "      <td>Rhinosinusite aigue</td>\n",
              "      <td>Rhinosinusite chronique</td>\n",
              "      <td>Bronchiolite</td>\n",
              "      <td>néoplasie pulmonaire</td>\n",
              "      <td>Possible NSTEMI / STEMI</td>\n",
              "      <td>Sarcoïdose</td>\n",
              "      <td>Néoplasie du pancréas</td>\n",
              "      <td>OAP/Surcharge pulmonaire</td>\n",
              "      <td>Péricardite</td>\n",
              "    </tr>\n",
              "    <tr>\n",
              "      <th>cond-name-eng</th>\n",
              "      <td>Spontaneous pneumothorax</td>\n",
              "      <td>Cluster headache</td>\n",
              "      <td>Boerhaave</td>\n",
              "      <td>Spontaneous rib fracture</td>\n",
              "      <td>GERD</td>\n",
              "      <td>HIV (initial infection)</td>\n",
              "      <td>Anemia</td>\n",
              "      <td>Viral pharyngitis</td>\n",
              "      <td>Inguinal hernia</td>\n",
              "      <td>Myasthenia gravis</td>\n",
              "      <td>...</td>\n",
              "      <td>Pneumonia</td>\n",
              "      <td>Acute rhinosinusitis</td>\n",
              "      <td>Chronic rhinosinusitis</td>\n",
              "      <td>Bronchiolitis</td>\n",
              "      <td>Pulmonary neoplasm</td>\n",
              "      <td>Possible NSTEMI / STEMI</td>\n",
              "      <td>Sarcoidosis</td>\n",
              "      <td>Pancreatic neoplasm</td>\n",
              "      <td>Acute pulmonary edema</td>\n",
              "      <td>Pericarditis</td>\n",
              "    </tr>\n",
              "    <tr>\n",
              "      <th>icd10-id</th>\n",
              "      <td>J93</td>\n",
              "      <td>g44.009</td>\n",
              "      <td>K22.3</td>\n",
              "      <td>S22.9</td>\n",
              "      <td>K21</td>\n",
              "      <td>B20</td>\n",
              "      <td>D64.9</td>\n",
              "      <td>J02.9</td>\n",
              "      <td>K40</td>\n",
              "      <td>G70.0</td>\n",
              "      <td>...</td>\n",
              "      <td>j17, j18</td>\n",
              "      <td>j01</td>\n",
              "      <td>j32</td>\n",
              "      <td>j21</td>\n",
              "      <td>c34</td>\n",
              "      <td>I21</td>\n",
              "      <td>d86</td>\n",
              "      <td>c25</td>\n",
              "      <td>J81.0</td>\n",
              "      <td>I30</td>\n",
              "    </tr>\n",
              "    <tr>\n",
              "      <th>symptoms</th>\n",
              "      <td>{'douleurxx_endroitducorps': {}, 'douleurxx': ...</td>\n",
              "      <td>{'douleurxx_endroitducorps': {}, 'douleurxx': ...</td>\n",
              "      <td>{'douleurxx_endroitducorps': {}, 'douleurxx': ...</td>\n",
              "      <td>{'douleurxx_endroitducorps': {}, 'douleurxx': ...</td>\n",
              "      <td>{'pyrosis': {}, 'toux': {}, 'ww_bouffe': {}, '...</td>\n",
              "      <td>{'fievre': {}, 'fatig_ext': {}, 'msk_dlr': {},...</td>\n",
              "      <td>{'etourdissement': {}, 'fatig_mod': {}, 'fatig...</td>\n",
              "      <td>{'douleurxx_endroitducorps': {}, 'douleurxx': ...</td>\n",
              "      <td>{'douleurxx_endroitducorps': {}, 'douleurxx': ...</td>\n",
              "      <td>{'dysphagie': {}, 'dysarthrie': {}, 'diplopie'...</td>\n",
              "      <td>...</td>\n",
              "      <td>{'ww_respi': {}, 'douleurxx_endroitducorps': {...</td>\n",
              "      <td>{'douleurxx_endroitducorps': {}, 'douleurxx': ...</td>\n",
              "      <td>{'douleurxx_endroitducorps': {}, 'douleurxx': ...</td>\n",
              "      <td>{'toux': {}, 'dyspn': {}, 'boire_ped': {}, 'rh...</td>\n",
              "      <td>{'douleurxx_endroitducorps': {}, 'douleurxx': ...</td>\n",
              "      <td>{'perte_appet': {}, 'douleurxx_endroitducorps'...</td>\n",
              "      <td>{'lesions_peau_endroitducorps': {}, 'lesions_p...</td>\n",
              "      <td>{'douleurxx_endroitducorps': {}, 'douleurxx': ...</td>\n",
              "      <td>{'ww_effort': {}, 'douleurxx_endroitducorps': ...</td>\n",
              "      <td>{'ww_respi': {}, 'ww_dd': {}, 'douleurxx_endro...</td>\n",
              "    </tr>\n",
              "    <tr>\n",
              "      <th>antecedents</th>\n",
              "      <td>{'f17.210': {}, 'pneumothorax': {}, 'ap_pneumo...</td>\n",
              "      <td>{'atcd_cluster': {}, 'f10.129': {}, 'rx_vasodi...</td>\n",
              "      <td>{'f10.129': {}, 'trav1': {}}</td>\n",
              "      <td>{'f10.129': {}, 'cancer_méta': {}, 'osteoporos...</td>\n",
              "      <td>{'e66': {}, 'preg1': {}, 'j45': {}, 'f10.129':...</td>\n",
              "      <td>{'itss_risque': {}, 'drogues_IV': {}, 'atcd_it...</td>\n",
              "      <td>{'Mauv_aliment': {}, 'atcd_anem': {}, 'atcd_fa...</td>\n",
              "      <td>{'dayc': {}, 'crowd': {}, 'f17.210': {}, 'cont...</td>\n",
              "      <td>{'perinatality': {}, 'e66': {}, 'trav1': {}}</td>\n",
              "      <td>{'atcdfam_mg': {}, 'trav1': {}}</td>\n",
              "      <td>...</td>\n",
              "      <td>{'vaccination': {}, 'surg1': {}, 'j44_j42': {}...</td>\n",
              "      <td>{'vaccination': {}, 'j34.2': {}, 'f17.210': {}...</td>\n",
              "      <td>{'j06.9': {}, 'j34.2': {}, 'f17.210': {}, 'k21...</td>\n",
              "      <td>{'vaccination': {}, 'momasthma': {}, 'crowd': ...</td>\n",
              "      <td>{'smokingpast': {}, 'f17.210': {}, 'z80.1': {}...</td>\n",
              "      <td>{'i25.1': {}, 'i73.9': {}, 'smokingpast': {}, ...</td>\n",
              "      <td>{'e66': {}, 'tagri': {}, 'trav1': {}}</td>\n",
              "      <td>{'e10_e11': {}, 'f17.210': {}, 'e66': {}, 'z80...</td>\n",
              "      <td>{'i25.1': {}, 'i50': {}, 'J81': {}, 'i10': {},...</td>\n",
              "      <td>{'B34.9': {}, 'I30': {}, 'trav1': {}}</td>\n",
              "    </tr>\n",
              "    <tr>\n",
              "      <th>severity</th>\n",
              "      <td>2</td>\n",
              "      <td>3</td>\n",
              "      <td>2</td>\n",
              "      <td>3</td>\n",
              "      <td>3</td>\n",
              "      <td>3</td>\n",
              "      <td>4</td>\n",
              "      <td>4</td>\n",
              "      <td>3</td>\n",
              "      <td>3</td>\n",
              "      <td>...</td>\n",
              "      <td>3</td>\n",
              "      <td>4</td>\n",
              "      <td>5</td>\n",
              "      <td>3</td>\n",
              "      <td>3</td>\n",
              "      <td>1</td>\n",
              "      <td>4</td>\n",
              "      <td>3</td>\n",
              "      <td>1</td>\n",
              "      <td>4</td>\n",
              "    </tr>\n",
              "  </tbody>\n",
              "</table>\n",
              "<p>7 rows × 49 columns</p>\n",
              "</div>"
            ],
            "text/plain": [
              "                                            Pneumothorax spontané  \\\n",
              "condition_name                              Pneumothorax spontané   \n",
              "cond-name-fr                                Pneumothorax spontané   \n",
              "cond-name-eng                            Spontaneous pneumothorax   \n",
              "icd10-id                                                      J93   \n",
              "symptoms        {'douleurxx_endroitducorps': {}, 'douleurxx': ...   \n",
              "antecedents     {'f17.210': {}, 'pneumothorax': {}, 'ap_pneumo...   \n",
              "severity                                                        2   \n",
              "\n",
              "                                               Céphalée en grappe  \\\n",
              "condition_name                                 Céphalée en grappe   \n",
              "cond-name-fr                                   Céphalée en grappe   \n",
              "cond-name-eng                                    Cluster headache   \n",
              "icd10-id                                                  g44.009   \n",
              "symptoms        {'douleurxx_endroitducorps': {}, 'douleurxx': ...   \n",
              "antecedents     {'atcd_cluster': {}, 'f10.129': {}, 'rx_vasodi...   \n",
              "severity                                                        3   \n",
              "\n",
              "                                            Syndrome de Boerhaave  \\\n",
              "condition_name                              Syndrome de Boerhaave   \n",
              "cond-name-fr                                Syndrome de Boerhaave   \n",
              "cond-name-eng                                           Boerhaave   \n",
              "icd10-id                                                    K22.3   \n",
              "symptoms        {'douleurxx_endroitducorps': {}, 'douleurxx': ...   \n",
              "antecedents                          {'f10.129': {}, 'trav1': {}}   \n",
              "severity                                                        2   \n",
              "\n",
              "                                       Fracture de côte spontanée  \\\n",
              "condition_name                         Fracture de côte spontanée   \n",
              "cond-name-fr                           Fracture de côte spontanée   \n",
              "cond-name-eng                            Spontaneous rib fracture   \n",
              "icd10-id                                                    S22.9   \n",
              "symptoms        {'douleurxx_endroitducorps': {}, 'douleurxx': ...   \n",
              "antecedents     {'f10.129': {}, 'cancer_méta': {}, 'osteoporos...   \n",
              "severity                                                        3   \n",
              "\n",
              "                                                              RGO  \\\n",
              "condition_name                                                RGO   \n",
              "cond-name-fr                                                  RGO   \n",
              "cond-name-eng                                                GERD   \n",
              "icd10-id                                                      K21   \n",
              "symptoms        {'pyrosis': {}, 'toux': {}, 'ww_bouffe': {}, '...   \n",
              "antecedents     {'e66': {}, 'preg1': {}, 'j45': {}, 'f10.129':...   \n",
              "severity                                                        3   \n",
              "\n",
              "                                            VIH (Primo-infection)  \\\n",
              "condition_name                              VIH (Primo-infection)   \n",
              "cond-name-fr                                VIH (Primo-infection)   \n",
              "cond-name-eng                             HIV (initial infection)   \n",
              "icd10-id                                                      B20   \n",
              "symptoms        {'fievre': {}, 'fatig_ext': {}, 'msk_dlr': {},...   \n",
              "antecedents     {'itss_risque': {}, 'drogues_IV': {}, 'atcd_it...   \n",
              "severity                                                        3   \n",
              "\n",
              "                                                           Anémie  \\\n",
              "condition_name                                             Anémie   \n",
              "cond-name-fr                                               Anémie   \n",
              "cond-name-eng                                              Anemia   \n",
              "icd10-id                                                    D64.9   \n",
              "symptoms        {'etourdissement': {}, 'fatig_mod': {}, 'fatig...   \n",
              "antecedents     {'Mauv_aliment': {}, 'atcd_anem': {}, 'atcd_fa...   \n",
              "severity                                                        4   \n",
              "\n",
              "                                                Pharyngite virale  \\\n",
              "condition_name                                  Pharyngite virale   \n",
              "cond-name-fr                                    Pharyngite virale   \n",
              "cond-name-eng                                   Viral pharyngitis   \n",
              "icd10-id                                                    J02.9   \n",
              "symptoms        {'douleurxx_endroitducorps': {}, 'douleurxx': ...   \n",
              "antecedents     {'dayc': {}, 'crowd': {}, 'f17.210': {}, 'cont...   \n",
              "severity                                                        4   \n",
              "\n",
              "                                                 Hernie inguinale  \\\n",
              "condition_name                                   Hernie inguinale   \n",
              "cond-name-fr                                     Hernie inguinale   \n",
              "cond-name-eng                                     Inguinal hernia   \n",
              "icd10-id                                                      K40   \n",
              "symptoms        {'douleurxx_endroitducorps': {}, 'douleurxx': ...   \n",
              "antecedents          {'perinatality': {}, 'e66': {}, 'trav1': {}}   \n",
              "severity                                                        3   \n",
              "\n",
              "                                                 Myasthénie grave  ...  \\\n",
              "condition_name                                   Myasthénie grave  ...   \n",
              "cond-name-fr                                     Myasthénie grave  ...   \n",
              "cond-name-eng                                   Myasthenia gravis  ...   \n",
              "icd10-id                                                    G70.0  ...   \n",
              "symptoms        {'dysphagie': {}, 'dysarthrie': {}, 'diplopie'...  ...   \n",
              "antecedents                       {'atcdfam_mg': {}, 'trav1': {}}  ...   \n",
              "severity                                                        3  ...   \n",
              "\n",
              "                                                        Pneumonie  \\\n",
              "condition_name                                          Pneumonie   \n",
              "cond-name-fr                                            Pneumonie   \n",
              "cond-name-eng                                           Pneumonia   \n",
              "icd10-id                                                 j17, j18   \n",
              "symptoms        {'ww_respi': {}, 'douleurxx_endroitducorps': {...   \n",
              "antecedents     {'vaccination': {}, 'surg1': {}, 'j44_j42': {}...   \n",
              "severity                                                        3   \n",
              "\n",
              "                                              Rhinosinusite aigue  \\\n",
              "condition_name                                Rhinosinusite aigue   \n",
              "cond-name-fr                                  Rhinosinusite aigue   \n",
              "cond-name-eng                                Acute rhinosinusitis   \n",
              "icd10-id                                                      j01   \n",
              "symptoms        {'douleurxx_endroitducorps': {}, 'douleurxx': ...   \n",
              "antecedents     {'vaccination': {}, 'j34.2': {}, 'f17.210': {}...   \n",
              "severity                                                        4   \n",
              "\n",
              "                                          Rhinosinusite chronique  \\\n",
              "condition_name                            Rhinosinusite chronique   \n",
              "cond-name-fr                              Rhinosinusite chronique   \n",
              "cond-name-eng                              Chronic rhinosinusitis   \n",
              "icd10-id                                                      j32   \n",
              "symptoms        {'douleurxx_endroitducorps': {}, 'douleurxx': ...   \n",
              "antecedents     {'j06.9': {}, 'j34.2': {}, 'f17.210': {}, 'k21...   \n",
              "severity                                                        5   \n",
              "\n",
              "                                                     Bronchiolite  \\\n",
              "condition_name                                       Bronchiolite   \n",
              "cond-name-fr                                         Bronchiolite   \n",
              "cond-name-eng                                       Bronchiolitis   \n",
              "icd10-id                                                      j21   \n",
              "symptoms        {'toux': {}, 'dyspn': {}, 'boire_ped': {}, 'rh...   \n",
              "antecedents     {'vaccination': {}, 'momasthma': {}, 'crowd': ...   \n",
              "severity                                                        3   \n",
              "\n",
              "                                             néoplasie pulmonaire  \\\n",
              "condition_name                               néoplasie pulmonaire   \n",
              "cond-name-fr                                 néoplasie pulmonaire   \n",
              "cond-name-eng                                  Pulmonary neoplasm   \n",
              "icd10-id                                                      c34   \n",
              "symptoms        {'douleurxx_endroitducorps': {}, 'douleurxx': ...   \n",
              "antecedents     {'smokingpast': {}, 'f17.210': {}, 'z80.1': {}...   \n",
              "severity                                                        3   \n",
              "\n",
              "                                          Possible NSTEMI / STEMI  \\\n",
              "condition_name                            Possible NSTEMI / STEMI   \n",
              "cond-name-fr                              Possible NSTEMI / STEMI   \n",
              "cond-name-eng                             Possible NSTEMI / STEMI   \n",
              "icd10-id                                                      I21   \n",
              "symptoms        {'perte_appet': {}, 'douleurxx_endroitducorps'...   \n",
              "antecedents     {'i25.1': {}, 'i73.9': {}, 'smokingpast': {}, ...   \n",
              "severity                                                        1   \n",
              "\n",
              "                                                       Sarcoïdose  \\\n",
              "condition_name                                         Sarcoïdose   \n",
              "cond-name-fr                                           Sarcoïdose   \n",
              "cond-name-eng                                         Sarcoidosis   \n",
              "icd10-id                                                      d86   \n",
              "symptoms        {'lesions_peau_endroitducorps': {}, 'lesions_p...   \n",
              "antecedents                 {'e66': {}, 'tagri': {}, 'trav1': {}}   \n",
              "severity                                                        4   \n",
              "\n",
              "                                            Néoplasie du pancréas  \\\n",
              "condition_name                              Néoplasie du pancréas   \n",
              "cond-name-fr                                Néoplasie du pancréas   \n",
              "cond-name-eng                                 Pancreatic neoplasm   \n",
              "icd10-id                                                      c25   \n",
              "symptoms        {'douleurxx_endroitducorps': {}, 'douleurxx': ...   \n",
              "antecedents     {'e10_e11': {}, 'f17.210': {}, 'e66': {}, 'z80...   \n",
              "severity                                                        3   \n",
              "\n",
              "                                         OAP/Surcharge pulmonaire  \\\n",
              "condition_name                           OAP/Surcharge pulmonaire   \n",
              "cond-name-fr                             OAP/Surcharge pulmonaire   \n",
              "cond-name-eng                               Acute pulmonary edema   \n",
              "icd10-id                                                    J81.0   \n",
              "symptoms        {'ww_effort': {}, 'douleurxx_endroitducorps': ...   \n",
              "antecedents     {'i25.1': {}, 'i50': {}, 'J81': {}, 'i10': {},...   \n",
              "severity                                                        1   \n",
              "\n",
              "                                                      Péricardite  \n",
              "condition_name                                        Péricardite  \n",
              "cond-name-fr                                          Péricardite  \n",
              "cond-name-eng                                        Pericarditis  \n",
              "icd10-id                                                      I30  \n",
              "symptoms        {'ww_respi': {}, 'ww_dd': {}, 'douleurxx_endro...  \n",
              "antecedents                 {'B34.9': {}, 'I30': {}, 'trav1': {}}  \n",
              "severity                                                        4  \n",
              "\n",
              "[7 rows x 49 columns]"
            ]
          },
          "execution_count": 3,
          "metadata": {},
          "output_type": "execute_result"
        }
      ],
      "source": [
        "release_conditions_df.head(7)"
      ]
    },
    {
      "cell_type": "code",
      "execution_count": 11,
      "metadata": {
        "id": "sslC3uMJ4nwh"
      },
      "outputs": [
        {
          "data": {
            "text/plain": [
              "{'fievre': {},\n",
              " 'fatig_ext': {},\n",
              " 'msk_dlr': {},\n",
              " 'perte_poids': {},\n",
              " 'douleurxx_endroitducorps': {},\n",
              " 'douleurxx': {},\n",
              " 'douleurxx_irrad': {},\n",
              " 'douleurxx_carac': {},\n",
              " 'douleurxx_soudain': {},\n",
              " 'douleurxx_intens': {},\n",
              " 'douleurxx_precis': {},\n",
              " 'gorge_dlr': {},\n",
              " 'adp_dlr': {},\n",
              " 'diarrhee': {},\n",
              " 'lesions_peau_endroitducorps': {},\n",
              " 'lesions_peau': {},\n",
              " 'lesions_peau_couleur': {},\n",
              " 'lesions_peau_intens': {},\n",
              " 'lesions_peau_elevee': {},\n",
              " 'lesions_peau_prurit': {},\n",
              " 'lesions_peau_plusqu1cm': {},\n",
              " 'lesions_peau_desquame': {},\n",
              " 'nausee': {},\n",
              " 'diaph': {}}"
            ]
          },
          "execution_count": 11,
          "metadata": {},
          "output_type": "execute_result"
        }
      ],
      "source": [
        "# Example of symptoms for a condition\n",
        "release_conditions_df['VIH (Primo-infection)']['symptoms']"
      ]
    },
    {
      "cell_type": "code",
      "execution_count": 10,
      "metadata": {},
      "outputs": [
        {
          "data": {
            "text/plain": [
              "{'itss_risque': {},\n",
              " 'drogues_IV': {},\n",
              " 'atcd_its': {},\n",
              " 'sex_vih': {},\n",
              " 'trav1': {}}"
            ]
          },
          "execution_count": 10,
          "metadata": {},
          "output_type": "execute_result"
        }
      ],
      "source": [
        "# Example of antecedents for a condition\n",
        "release_conditions_df['VIH (Primo-infection)']['antecedents']"
      ]
    },
    {
      "attachments": {},
      "cell_type": "markdown",
      "metadata": {},
      "source": [
        "# Create new dataset"
      ]
    },
    {
      "attachments": {},
      "cell_type": "markdown",
      "metadata": {},
      "source": [
        "## Create initial dataframe"
      ]
    },
    {
      "cell_type": "code",
      "execution_count": 15,
      "metadata": {},
      "outputs": [
        {
          "data": {
            "text/html": [
              "<div>\n",
              "<style scoped>\n",
              "    .dataframe tbody tr th:only-of-type {\n",
              "        vertical-align: middle;\n",
              "    }\n",
              "\n",
              "    .dataframe tbody tr th {\n",
              "        vertical-align: top;\n",
              "    }\n",
              "\n",
              "    .dataframe thead th {\n",
              "        text-align: right;\n",
              "    }\n",
              "</style>\n",
              "<table border=\"1\" class=\"dataframe\">\n",
              "  <thead>\n",
              "    <tr style=\"text-align: right;\">\n",
              "      <th></th>\n",
              "      <th>condition</th>\n",
              "      <th>evidences</th>\n",
              "    </tr>\n",
              "  </thead>\n",
              "  <tbody>\n",
              "    <tr>\n",
              "      <th>0</th>\n",
              "      <td>Pneumothorax spontané</td>\n",
              "      <td>[douleurxx_endroitducorps, douleurxx, douleurx...</td>\n",
              "    </tr>\n",
              "    <tr>\n",
              "      <th>1</th>\n",
              "      <td>Céphalée en grappe</td>\n",
              "      <td>[douleurxx_endroitducorps, douleurxx, douleurx...</td>\n",
              "    </tr>\n",
              "    <tr>\n",
              "      <th>2</th>\n",
              "      <td>Syndrome de Boerhaave</td>\n",
              "      <td>[douleurxx_endroitducorps, douleurxx, douleurx...</td>\n",
              "    </tr>\n",
              "    <tr>\n",
              "      <th>3</th>\n",
              "      <td>Fracture de côte spontanée</td>\n",
              "      <td>[douleurxx_endroitducorps, douleurxx, douleurx...</td>\n",
              "    </tr>\n",
              "    <tr>\n",
              "      <th>4</th>\n",
              "      <td>RGO</td>\n",
              "      <td>[pyrosis, toux, ww_bouffe, douleurxx_endroitdu...</td>\n",
              "    </tr>\n",
              "  </tbody>\n",
              "</table>\n",
              "</div>"
            ],
            "text/plain": [
              "                    condition  \\\n",
              "0       Pneumothorax spontané   \n",
              "1          Céphalée en grappe   \n",
              "2       Syndrome de Boerhaave   \n",
              "3  Fracture de côte spontanée   \n",
              "4                         RGO   \n",
              "\n",
              "                                           evidences  \n",
              "0  [douleurxx_endroitducorps, douleurxx, douleurx...  \n",
              "1  [douleurxx_endroitducorps, douleurxx, douleurx...  \n",
              "2  [douleurxx_endroitducorps, douleurxx, douleurx...  \n",
              "3  [douleurxx_endroitducorps, douleurxx, douleurx...  \n",
              "4  [pyrosis, toux, ww_bouffe, douleurxx_endroitdu...  "
            ]
          },
          "execution_count": 15,
          "metadata": {},
          "output_type": "execute_result"
        }
      ],
      "source": [
        "# Let's create a dataframe with the evidences (symptoms and antecedents) for each condition\n",
        "conditions_df = pd.DataFrame(columns=['condition', 'evidences'])\n",
        "for condition in release_conditions_df:\n",
        "    # the symptoms and antecedents are dictionaries with the keys being the symptoms/antecedents\n",
        "    # we need to convert them to lists\n",
        "    symptoms = list(release_conditions_df[condition]['symptoms'].keys())\n",
        "    antecedents = list(release_conditions_df[condition]['antecedents'].keys())\n",
        "    evidences = symptoms + antecedents\n",
        "    conditions_df = pd.concat([conditions_df, pd.DataFrame([[condition, evidences]], columns=['condition', 'evidences'])], ignore_index=True)\n",
        "\n",
        "conditions_df.head()"
      ]
    },
    {
      "attachments": {},
      "cell_type": "markdown",
      "metadata": {},
      "source": [
        "The evidences now is a column containing the list of the columns. Let's first check how many unique evidences are there. And then let's make those values columns with values 0 and 1 depending on their existence"
      ]
    },
    {
      "attachments": {},
      "cell_type": "markdown",
      "metadata": {},
      "source": [
        "## Verifying unique evidences"
      ]
    },
    {
      "cell_type": "code",
      "execution_count": 16,
      "metadata": {},
      "outputs": [
        {
          "name": "stdout",
          "output_type": "stream",
          "text": [
            "Number of unique evidences: 223\n",
            "Unique evidences: {'rds_paralys_gen', 'osteoporose', 'lesions_peau_intens', 'c00-d48', 'ap_asian', 'faible', 'protu_langue', 'Mauv_aliment', 'antipsy_récent', 'pertes_vag', 'faiblesse faciale', 'z80.1', 'melena', 'oedeme', 'trismus', 'trav1', 'z77.22', 'footnumb', 'perte_poids', 'atcdpsyfam', 'smokingpast', 'bw_bending', 'ains', 'lesions_peau_endroitducorps', 'selles_pale', 'naco', 'z82.49', 'vaccination', 'douleurxx_irrad', 'nau_psy_recent', 'contact', 'irritable', 'paralysie_visage', 'dyspn_noct', 'hosptisasm', 'f10.129', 'j06.9', 'palpit', 'boire_ped', 'pdc', 'douleurxx_soudain', 'obstipation', 'hyponos', 'allergie_sev', 'diarrhee', 'toux_Aboy', 'atcd_cluster', 'm79.7', 's09.90', 'H6690', 'apnee', 'B34.9', 'dysphagie', 'immob1', 'rds_sg', 'f17.210', 'ww_bouger', 'sex_vih', 'toux', 'fatig_mod', 'cortico', 'f32', 'dysarthrie', 'histfammigraine', 'tmine', 'suburb', 'lesions_peau_elevee', 'rectorragie', 'dayc', 'HIV', 'sialorhee', 'fam_j45', 'irc', 'synd_nephro', 'j44_j42', 'J81', 'v85.0', 'bode', 'ww_dd', 'pneumothorax', 'sahs', 'ptose', 'Z99.2', 'vo_sg', 'anxiete_s', 'menarche_hat', 'confusion', 'surg1', 'j34.2', 'lesions_peau_plusqu1cm', 'i80', 'z80.0', 'claud_mâchoire', 'j33', 'douleurxx_precis', 'itss_risque', 'ap_valve', 'paresthesies_bilat', 'pls_irreg', 'j17_j18', 'rx_vasodil', 'crach_sg', 'adp_dlr', 'atcd_anem', 'drink_energie', 'vo_violent', 'hernie_hiatale', 'ap_pneumothorax', 'ww_valsalva', 'z84.89', 'atcd_fam_anem', 'move', 'friss', 'expecto', 'g20', 'diaph', 'crowd', 'dysp_effort', 'stridor', 'hta', 'convulsion', 'f41.9', 'i50', 'erytheme_occ', 'rhino_clair', 'douleurxx', 'ebolacase', 'j32', 'cafe', 'ballon_abdo', 'e10_e11', 'rural', 'nausee', 'ménorr', 'cont_coq', 'oedeme_endroitducorps', 'i10', 'J05.0', 'crohn_cu', 'spasme_trapeze', 'rhino_pur', 'lesions_peau', 'drogues_stimul', 'urban1', 'pale', 'toux_sev', 'regard_dévié', 'k74', 'larmes', 'volume_parole', 'lesions_peau_couleur', 'malf_cardiaque', 'atcd_its', 'patho_endo', 'i73.9', 'douleurxx_carac', 'scombroide', 'gorge_dlr', 'dyspn', 'contact_allergie', 'ap_fk', 'K86.1', 'k21', 'msk_dlr', 'etourdissement', 'wakeup', 'gain_poids', 'criseasthm', 'ap_hypert4', 'psy_depers', 'insp_siffla', 'drogues_IV', 'j45', 'prurit_occ', 'rds_deg', 'diplopie', 'horm1', 'fatig_ext', 'lesions_peau_desquame', 'fievre', 'rds_paresthesie_gen', 'ww_respi', 'flushing', 'posttus_emesis', 'e78.5', 'tconst', 'pyrosis', 'perinatality', 'cancer_méta', 'douleurxx_endroitducorps', 'preg1', 'fam_atopie', 'prurit_nasal', 'ww_effort', 'angor_accelere', 'momasthma', 'tagri', 'z92.25', 'ap_par', 'allait_prol', 'I30', 'eampoc1', 'lymphoedème', 'ww_nuit', 'perte_appet', 'ww_bouffe', 'ulcères_bouche', 'wheez', 'i60-i69', 'atcdfam_mg', 'etouff', 'fatigabilité_msk', 'rds_anorexie', 'norvasc', 'i25.1', 'angor_repos', 'impression_mort', 'douleurxx_intens', 'laryngospasme', 'spasmes_msk', 'faiblesse_msmi', 'lesions_peau_prurit', 'e66'}\n"
          ]
        }
      ],
      "source": [
        "# Let's check the unique evidences in the dataset we created\n",
        "evidences = set()\n",
        "for evidence in conditions_df['evidences']:\n",
        "    evidences.update(evidence)\n",
        "print('Number of unique evidences: {}'.format(len(evidences)))\n",
        "print('Unique evidences: {}'.format(evidences))"
      ]
    },
    {
      "cell_type": "code",
      "execution_count": 19,
      "metadata": {},
      "outputs": [
        {
          "name": "stdout",
          "output_type": "stream",
          "text": [
            "Number of unique evidences: 223\n",
            "Unique evidences: {'c00-d48', 'lesions_peau_intens', 'osteoporose', 'rds_paralys_gen', 'ap_asian', 'faible', 'protu_langue', 'Mauv_aliment', 'antipsy_récent', 'pertes_vag', 'faiblesse faciale', 'z80.1', 'melena', 'oedeme', 'trismus', 'trav1', 'z77.22', 'footnumb', 'perte_poids', 'atcdpsyfam', 'smokingpast', 'bw_bending', 'ains', 'lesions_peau_endroitducorps', 'selles_pale', 'naco', 'z82.49', 'vaccination', 'douleurxx_irrad', 'nau_psy_recent', 'contact', 'irritable', 'paralysie_visage', 'dyspn_noct', 'hosptisasm', 'f10.129', 'j06.9', 'palpit', 'boire_ped', 'pdc', 'douleurxx_soudain', 'obstipation', 'hyponos', 'allergie_sev', 'diarrhee', 'toux_Aboy', 'atcd_cluster', 'm79.7', 's09.90', 'apnee', 'H6690', 'B34.9', 'dysphagie', 'immob1', 'rds_sg', 'f17.210', 'ww_bouger', 'sex_vih', 'fatig_mod', 'toux', 'cortico', 'f32', 'dysarthrie', 'histfammigraine', 'suburb', 'tmine', 'lesions_peau_elevee', 'dayc', 'HIV', 'rectorragie', 'fam_j45', 'sialorhee', 'irc', 'J81', 'j44_j42', 'synd_nephro', 'v85.0', 'bode', 'ww_dd', 'pneumothorax', 'sahs', 'ptose', 'Z99.2', 'anxiete_s', 'vo_sg', 'menarche_hat', 'confusion', 'j34.2', 'surg1', 'lesions_peau_plusqu1cm', 'i80', 'z80.0', 'claud_mâchoire', 'j33', 'douleurxx_precis', 'ap_valve', 'itss_risque', 'paresthesies_bilat', 'pls_irreg', 'j17_j18', 'rx_vasodil', 'crach_sg', 'adp_dlr', 'atcd_anem', 'drink_energie', 'friss', 'hernie_hiatale', 'ap_pneumothorax', 'move', 'vo_violent', 'atcd_fam_anem', 'ww_valsalva', 'g20', 'expecto', 'z84.89', 'diaph', 'crowd', 'dysp_effort', 'stridor', 'hta', 'convulsion', 'erytheme_occ', 'f41.9', 'i50', 'rhino_clair', 'douleurxx', 'ebolacase', 'j32', 'cafe', 'ballon_abdo', 'e10_e11', 'rural', 'J05.0', 'cont_coq', 'crohn_cu', 'i10', 'ménorr', 'nausee', 'oedeme_endroitducorps', 'spasme_trapeze', 'rhino_pur', 'lesions_peau', 'drogues_stimul', 'urban1', 'pale', 'regard_dévié', 'k74', 'toux_sev', 'larmes', 'volume_parole', 'lesions_peau_couleur', 'malf_cardiaque', 'atcd_its', 'i73.9', 'patho_endo', 'douleurxx_carac', 'scombroide', 'gorge_dlr', 'dyspn', 'ap_fk', 'K86.1', 'contact_allergie', 'k21', 'gain_poids', 'etourdissement', 'msk_dlr', 'wakeup', 'criseasthm', 'ap_hypert4', 'psy_depers', 'insp_siffla', 'drogues_IV', 'j45', 'prurit_occ', 'rds_deg', 'diplopie', 'horm1', 'fatig_ext', 'lesions_peau_desquame', 'fievre', 'rds_paresthesie_gen', 'ww_respi', 'flushing', 'e78.5', 'posttus_emesis', 'tconst', 'perinatality', 'pyrosis', 'cancer_méta', 'angor_accelere', 'douleurxx_endroitducorps', 'fam_atopie', 'preg1', 'prurit_nasal', 'ww_effort', 'momasthma', 'tagri', 'z92.25', 'I30', 'allait_prol', 'ap_par', 'eampoc1', 'lymphoedème', 'ww_nuit', 'perte_appet', 'ww_bouffe', 'ulcères_bouche', 'i60-i69', 'wheez', 'etouff', 'atcdfam_mg', 'fatigabilité_msk', 'rds_anorexie', 'norvasc', 'i25.1', 'angor_repos', 'impression_mort', 'douleurxx_intens', 'laryngospasme', 'spasmes_msk', 'faiblesse_msmi', 'lesions_peau_prurit', 'e66'}\n"
          ]
        }
      ],
      "source": [
        "# Let's read the evidences from the file (the evidences used on the original dataset)\n",
        "evidences_txt = []\n",
        "with open('..\\\\Datasets\\\\Patient-disease-symptom\\\\evidences.txt', 'r', encoding='utf-8') as f:\n",
        "    # the evidences are stored as a list in the file, so we need to convert it to a list\n",
        "    evidences_txt = ast.literal_eval(f.read())\n",
        "\n",
        "# let's keep only the evidences names (the evidences are stored in the format: 'evidences_name_@_evidences_type')\n",
        "old_evidences = set()\n",
        "for evidence in evidences_txt:\n",
        "    old_evidences.update([evidence.split('_@_')[0]])\n",
        "\n",
        "print('Number of unique evidences: {}'.format(len(old_evidences)))\n",
        "print('Unique evidences: {}'.format(old_evidences))"
      ]
    },
    {
      "cell_type": "code",
      "execution_count": 20,
      "metadata": {},
      "outputs": [
        {
          "name": "stdout",
          "output_type": "stream",
          "text": [
            "Number of evidences not in the evidences.txt file: 0\n"
          ]
        }
      ],
      "source": [
        "# Let's check if =the evidences in the dataset exist in the evidences.txt file\n",
        "new_evidences = []\n",
        "for evidence in evidences:\n",
        "    if evidence not in old_evidences:\n",
        "        new_evidences.append(evidence)\n",
        "\n",
        "print('Number of evidences not in the evidences.txt file: {}'.format(len(new_evidences)))"
      ]
    },
    {
      "attachments": {},
      "cell_type": "markdown",
      "metadata": {},
      "source": [
        "Luckily everything is good. The evidences are the same in both datasets"
      ]
    },
    {
      "attachments": {},
      "cell_type": "markdown",
      "metadata": {},
      "source": [
        "## Transforming dataset"
      ]
    },
    {
      "cell_type": "code",
      "execution_count": 21,
      "metadata": {},
      "outputs": [
        {
          "data": {
            "text/html": [
              "<div>\n",
              "<style scoped>\n",
              "    .dataframe tbody tr th:only-of-type {\n",
              "        vertical-align: middle;\n",
              "    }\n",
              "\n",
              "    .dataframe tbody tr th {\n",
              "        vertical-align: top;\n",
              "    }\n",
              "\n",
              "    .dataframe thead th {\n",
              "        text-align: right;\n",
              "    }\n",
              "</style>\n",
              "<table border=\"1\" class=\"dataframe\">\n",
              "  <thead>\n",
              "    <tr style=\"text-align: right;\">\n",
              "      <th></th>\n",
              "      <th>condition</th>\n",
              "      <th>B34.9</th>\n",
              "      <th>H6690</th>\n",
              "      <th>HIV</th>\n",
              "      <th>I30</th>\n",
              "      <th>J05.0</th>\n",
              "      <th>J81</th>\n",
              "      <th>K86.1</th>\n",
              "      <th>Mauv_aliment</th>\n",
              "      <th>Z99.2</th>\n",
              "      <th>...</th>\n",
              "      <th>ww_effort</th>\n",
              "      <th>ww_nuit</th>\n",
              "      <th>ww_respi</th>\n",
              "      <th>ww_valsalva</th>\n",
              "      <th>z77.22</th>\n",
              "      <th>z80.0</th>\n",
              "      <th>z80.1</th>\n",
              "      <th>z82.49</th>\n",
              "      <th>z84.89</th>\n",
              "      <th>z92.25</th>\n",
              "    </tr>\n",
              "  </thead>\n",
              "  <tbody>\n",
              "    <tr>\n",
              "      <th>0</th>\n",
              "      <td>Pneumothorax spontané</td>\n",
              "      <td>0</td>\n",
              "      <td>0</td>\n",
              "      <td>0</td>\n",
              "      <td>0</td>\n",
              "      <td>0</td>\n",
              "      <td>0</td>\n",
              "      <td>0</td>\n",
              "      <td>0</td>\n",
              "      <td>0</td>\n",
              "      <td>...</td>\n",
              "      <td>1</td>\n",
              "      <td>0</td>\n",
              "      <td>1</td>\n",
              "      <td>0</td>\n",
              "      <td>0</td>\n",
              "      <td>0</td>\n",
              "      <td>0</td>\n",
              "      <td>0</td>\n",
              "      <td>0</td>\n",
              "      <td>0</td>\n",
              "    </tr>\n",
              "    <tr>\n",
              "      <th>1</th>\n",
              "      <td>Céphalée en grappe</td>\n",
              "      <td>0</td>\n",
              "      <td>0</td>\n",
              "      <td>0</td>\n",
              "      <td>0</td>\n",
              "      <td>0</td>\n",
              "      <td>0</td>\n",
              "      <td>0</td>\n",
              "      <td>0</td>\n",
              "      <td>0</td>\n",
              "      <td>...</td>\n",
              "      <td>0</td>\n",
              "      <td>0</td>\n",
              "      <td>0</td>\n",
              "      <td>0</td>\n",
              "      <td>0</td>\n",
              "      <td>0</td>\n",
              "      <td>0</td>\n",
              "      <td>0</td>\n",
              "      <td>0</td>\n",
              "      <td>0</td>\n",
              "    </tr>\n",
              "    <tr>\n",
              "      <th>2</th>\n",
              "      <td>Syndrome de Boerhaave</td>\n",
              "      <td>0</td>\n",
              "      <td>0</td>\n",
              "      <td>0</td>\n",
              "      <td>0</td>\n",
              "      <td>0</td>\n",
              "      <td>0</td>\n",
              "      <td>0</td>\n",
              "      <td>0</td>\n",
              "      <td>0</td>\n",
              "      <td>...</td>\n",
              "      <td>0</td>\n",
              "      <td>0</td>\n",
              "      <td>0</td>\n",
              "      <td>0</td>\n",
              "      <td>0</td>\n",
              "      <td>0</td>\n",
              "      <td>0</td>\n",
              "      <td>0</td>\n",
              "      <td>0</td>\n",
              "      <td>0</td>\n",
              "    </tr>\n",
              "    <tr>\n",
              "      <th>3</th>\n",
              "      <td>Fracture de côte spontanée</td>\n",
              "      <td>0</td>\n",
              "      <td>0</td>\n",
              "      <td>0</td>\n",
              "      <td>0</td>\n",
              "      <td>0</td>\n",
              "      <td>0</td>\n",
              "      <td>0</td>\n",
              "      <td>0</td>\n",
              "      <td>0</td>\n",
              "      <td>...</td>\n",
              "      <td>0</td>\n",
              "      <td>0</td>\n",
              "      <td>1</td>\n",
              "      <td>0</td>\n",
              "      <td>0</td>\n",
              "      <td>0</td>\n",
              "      <td>0</td>\n",
              "      <td>0</td>\n",
              "      <td>0</td>\n",
              "      <td>0</td>\n",
              "    </tr>\n",
              "    <tr>\n",
              "      <th>4</th>\n",
              "      <td>RGO</td>\n",
              "      <td>0</td>\n",
              "      <td>0</td>\n",
              "      <td>0</td>\n",
              "      <td>0</td>\n",
              "      <td>0</td>\n",
              "      <td>0</td>\n",
              "      <td>0</td>\n",
              "      <td>0</td>\n",
              "      <td>0</td>\n",
              "      <td>...</td>\n",
              "      <td>0</td>\n",
              "      <td>0</td>\n",
              "      <td>0</td>\n",
              "      <td>0</td>\n",
              "      <td>0</td>\n",
              "      <td>0</td>\n",
              "      <td>0</td>\n",
              "      <td>0</td>\n",
              "      <td>0</td>\n",
              "      <td>0</td>\n",
              "    </tr>\n",
              "  </tbody>\n",
              "</table>\n",
              "<p>5 rows × 224 columns</p>\n",
              "</div>"
            ],
            "text/plain": [
              "                    condition  B34.9  H6690  HIV  I30  J05.0  J81  K86.1  \\\n",
              "0       Pneumothorax spontané      0      0    0    0      0    0      0   \n",
              "1          Céphalée en grappe      0      0    0    0      0    0      0   \n",
              "2       Syndrome de Boerhaave      0      0    0    0      0    0      0   \n",
              "3  Fracture de côte spontanée      0      0    0    0      0    0      0   \n",
              "4                         RGO      0      0    0    0      0    0      0   \n",
              "\n",
              "   Mauv_aliment  Z99.2  ...  ww_effort  ww_nuit  ww_respi  ww_valsalva  \\\n",
              "0             0      0  ...          1        0         1            0   \n",
              "1             0      0  ...          0        0         0            0   \n",
              "2             0      0  ...          0        0         0            0   \n",
              "3             0      0  ...          0        0         1            0   \n",
              "4             0      0  ...          0        0         0            0   \n",
              "\n",
              "   z77.22  z80.0  z80.1  z82.49  z84.89  z92.25  \n",
              "0       0      0      0       0       0       0  \n",
              "1       0      0      0       0       0       0  \n",
              "2       0      0      0       0       0       0  \n",
              "3       0      0      0       0       0       0  \n",
              "4       0      0      0       0       0       0  \n",
              "\n",
              "[5 rows x 224 columns]"
            ]
          },
          "execution_count": 21,
          "metadata": {},
          "output_type": "execute_result"
        }
      ],
      "source": [
        "# Let's change the evidences lists in the df to columns with binary values\n",
        "mlb = MultiLabelBinarizer()\n",
        "conditions_df = conditions_df.join(pd.DataFrame(mlb.fit_transform(conditions_df.pop('evidences')), columns=mlb.classes_, index=conditions_df.index))\n",
        "conditions_df.head()"
      ]
    },
    {
      "cell_type": "code",
      "execution_count": 30,
      "metadata": {},
      "outputs": [
        {
          "data": {
            "text/plain": [
              "['adp_dlr',\n",
              " 'atcd_its',\n",
              " 'diaph',\n",
              " 'diarrhee',\n",
              " 'douleurxx',\n",
              " 'douleurxx_carac',\n",
              " 'douleurxx_endroitducorps',\n",
              " 'douleurxx_intens',\n",
              " 'douleurxx_irrad',\n",
              " 'douleurxx_precis',\n",
              " 'douleurxx_soudain',\n",
              " 'drogues_IV',\n",
              " 'fatig_ext',\n",
              " 'fievre',\n",
              " 'gorge_dlr',\n",
              " 'itss_risque',\n",
              " 'lesions_peau',\n",
              " 'lesions_peau_couleur',\n",
              " 'lesions_peau_desquame',\n",
              " 'lesions_peau_elevee',\n",
              " 'lesions_peau_endroitducorps',\n",
              " 'lesions_peau_intens',\n",
              " 'lesions_peau_plusqu1cm',\n",
              " 'lesions_peau_prurit',\n",
              " 'msk_dlr',\n",
              " 'nausee',\n",
              " 'perte_poids',\n",
              " 'sex_vih',\n",
              " 'trav1']"
            ]
          },
          "execution_count": 30,
          "metadata": {},
          "output_type": "execute_result"
        }
      ],
      "source": [
        "# Verify that the evidences are correctly converted to columns (let's check one condition)\n",
        "check = conditions_df[conditions_df['condition'] == 'VIH (Primo-infection)']\n",
        "\n",
        "# get all the evidences that are 1 (True)\n",
        "check = check[check == 1].dropna(axis=1, how='all').columns.tolist()\n",
        "\n",
        "check"
      ]
    },
    {
      "cell_type": "code",
      "execution_count": 31,
      "metadata": {},
      "outputs": [],
      "source": [
        "# Let's save the dataframe to a csv file\n",
        "conditions_df.to_csv('..\\\\Datasets\\\\Patient-disease-symptom\\\\final datasets\\\\conditions.csv', index=False)"
      ]
    },
    {
      "attachments": {},
      "cell_type": "markdown",
      "metadata": {},
      "source": [
        "# Model selection"
      ]
    },
    {
      "cell_type": "code",
      "execution_count": 59,
      "metadata": {},
      "outputs": [],
      "source": [
        "# Let's train some models to recommend conditions based on the evidences\n",
        "# import necessary libraries\n",
        "from sklearn.metrics import classification_report\n",
        "from sklearn.neighbors import KNeighborsClassifier\n",
        "from sklearn.linear_model import SGDClassifier\n",
        "from sklearn.naive_bayes import BernoulliNB\n",
        "from sklearn.neural_network import MLPClassifier"
      ]
    },
    {
      "cell_type": "code",
      "execution_count": 33,
      "metadata": {},
      "outputs": [],
      "source": [
        "# load the dataset\n",
        "conditions_df = pd.read_csv('..\\\\Datasets\\\\Patient-disease-symptom\\\\final datasets\\\\conditions.csv')"
      ]
    },
    {
      "cell_type": "code",
      "execution_count": 34,
      "metadata": {},
      "outputs": [],
      "source": [
        "# split the dataset into fetures and target\n",
        "X = conditions_df.drop(['condition'], axis=1)\n",
        "y = conditions_df['condition']"
      ]
    },
    {
      "cell_type": "code",
      "execution_count": 37,
      "metadata": {},
      "outputs": [
        {
          "data": {
            "text/html": [
              "<style>#sk-container-id-1 {color: black;background-color: white;}#sk-container-id-1 pre{padding: 0;}#sk-container-id-1 div.sk-toggleable {background-color: white;}#sk-container-id-1 label.sk-toggleable__label {cursor: pointer;display: block;width: 100%;margin-bottom: 0;padding: 0.3em;box-sizing: border-box;text-align: center;}#sk-container-id-1 label.sk-toggleable__label-arrow:before {content: \"▸\";float: left;margin-right: 0.25em;color: #696969;}#sk-container-id-1 label.sk-toggleable__label-arrow:hover:before {color: black;}#sk-container-id-1 div.sk-estimator:hover label.sk-toggleable__label-arrow:before {color: black;}#sk-container-id-1 div.sk-toggleable__content {max-height: 0;max-width: 0;overflow: hidden;text-align: left;background-color: #f0f8ff;}#sk-container-id-1 div.sk-toggleable__content pre {margin: 0.2em;color: black;border-radius: 0.25em;background-color: #f0f8ff;}#sk-container-id-1 input.sk-toggleable__control:checked~div.sk-toggleable__content {max-height: 200px;max-width: 100%;overflow: auto;}#sk-container-id-1 input.sk-toggleable__control:checked~label.sk-toggleable__label-arrow:before {content: \"▾\";}#sk-container-id-1 div.sk-estimator input.sk-toggleable__control:checked~label.sk-toggleable__label {background-color: #d4ebff;}#sk-container-id-1 div.sk-label input.sk-toggleable__control:checked~label.sk-toggleable__label {background-color: #d4ebff;}#sk-container-id-1 input.sk-hidden--visually {border: 0;clip: rect(1px 1px 1px 1px);clip: rect(1px, 1px, 1px, 1px);height: 1px;margin: -1px;overflow: hidden;padding: 0;position: absolute;width: 1px;}#sk-container-id-1 div.sk-estimator {font-family: monospace;background-color: #f0f8ff;border: 1px dotted black;border-radius: 0.25em;box-sizing: border-box;margin-bottom: 0.5em;}#sk-container-id-1 div.sk-estimator:hover {background-color: #d4ebff;}#sk-container-id-1 div.sk-parallel-item::after {content: \"\";width: 100%;border-bottom: 1px solid gray;flex-grow: 1;}#sk-container-id-1 div.sk-label:hover label.sk-toggleable__label {background-color: #d4ebff;}#sk-container-id-1 div.sk-serial::before {content: \"\";position: absolute;border-left: 1px solid gray;box-sizing: border-box;top: 0;bottom: 0;left: 50%;z-index: 0;}#sk-container-id-1 div.sk-serial {display: flex;flex-direction: column;align-items: center;background-color: white;padding-right: 0.2em;padding-left: 0.2em;position: relative;}#sk-container-id-1 div.sk-item {position: relative;z-index: 1;}#sk-container-id-1 div.sk-parallel {display: flex;align-items: stretch;justify-content: center;background-color: white;position: relative;}#sk-container-id-1 div.sk-item::before, #sk-container-id-1 div.sk-parallel-item::before {content: \"\";position: absolute;border-left: 1px solid gray;box-sizing: border-box;top: 0;bottom: 0;left: 50%;z-index: -1;}#sk-container-id-1 div.sk-parallel-item {display: flex;flex-direction: column;z-index: 1;position: relative;background-color: white;}#sk-container-id-1 div.sk-parallel-item:first-child::after {align-self: flex-end;width: 50%;}#sk-container-id-1 div.sk-parallel-item:last-child::after {align-self: flex-start;width: 50%;}#sk-container-id-1 div.sk-parallel-item:only-child::after {width: 0;}#sk-container-id-1 div.sk-dashed-wrapped {border: 1px dashed gray;margin: 0 0.4em 0.5em 0.4em;box-sizing: border-box;padding-bottom: 0.4em;background-color: white;}#sk-container-id-1 div.sk-label label {font-family: monospace;font-weight: bold;display: inline-block;line-height: 1.2em;}#sk-container-id-1 div.sk-label-container {text-align: center;}#sk-container-id-1 div.sk-container {/* jupyter's `normalize.less` sets `[hidden] { display: none; }` but bootstrap.min.css set `[hidden] { display: none !important; }` so we also need the `!important` here to be able to override the default hidden behavior on the sphinx rendered scikit-learn.org. See: https://github.com/scikit-learn/scikit-learn/issues/21755 */display: inline-block !important;position: relative;}#sk-container-id-1 div.sk-text-repr-fallback {display: none;}</style><div id=\"sk-container-id-1\" class=\"sk-top-container\"><div class=\"sk-text-repr-fallback\"><pre>KNeighborsClassifier()</pre><b>In a Jupyter environment, please rerun this cell to show the HTML representation or trust the notebook. <br />On GitHub, the HTML representation is unable to render, please try loading this page with nbviewer.org.</b></div><div class=\"sk-container\" hidden><div class=\"sk-item\"><div class=\"sk-estimator sk-toggleable\"><input class=\"sk-toggleable__control sk-hidden--visually\" id=\"sk-estimator-id-1\" type=\"checkbox\" checked><label for=\"sk-estimator-id-1\" class=\"sk-toggleable__label sk-toggleable__label-arrow\">KNeighborsClassifier</label><div class=\"sk-toggleable__content\"><pre>KNeighborsClassifier()</pre></div></div></div></div></div>"
            ],
            "text/plain": [
              "KNeighborsClassifier()"
            ]
          },
          "execution_count": 37,
          "metadata": {},
          "output_type": "execute_result"
        }
      ],
      "source": [
        "# train the model directly on the whole dataset (we will not use a test set as we want to recommend conditions based on the evidences)\n",
        "# KNN\n",
        "knn = KNeighborsClassifier(n_neighbors=5)\n",
        "knn.fit(X, y)"
      ]
    },
    {
      "cell_type": "code",
      "execution_count": 69,
      "metadata": {},
      "outputs": [
        {
          "data": {
            "text/html": [
              "<style>#sk-container-id-10 {color: black;background-color: white;}#sk-container-id-10 pre{padding: 0;}#sk-container-id-10 div.sk-toggleable {background-color: white;}#sk-container-id-10 label.sk-toggleable__label {cursor: pointer;display: block;width: 100%;margin-bottom: 0;padding: 0.3em;box-sizing: border-box;text-align: center;}#sk-container-id-10 label.sk-toggleable__label-arrow:before {content: \"▸\";float: left;margin-right: 0.25em;color: #696969;}#sk-container-id-10 label.sk-toggleable__label-arrow:hover:before {color: black;}#sk-container-id-10 div.sk-estimator:hover label.sk-toggleable__label-arrow:before {color: black;}#sk-container-id-10 div.sk-toggleable__content {max-height: 0;max-width: 0;overflow: hidden;text-align: left;background-color: #f0f8ff;}#sk-container-id-10 div.sk-toggleable__content pre {margin: 0.2em;color: black;border-radius: 0.25em;background-color: #f0f8ff;}#sk-container-id-10 input.sk-toggleable__control:checked~div.sk-toggleable__content {max-height: 200px;max-width: 100%;overflow: auto;}#sk-container-id-10 input.sk-toggleable__control:checked~label.sk-toggleable__label-arrow:before {content: \"▾\";}#sk-container-id-10 div.sk-estimator input.sk-toggleable__control:checked~label.sk-toggleable__label {background-color: #d4ebff;}#sk-container-id-10 div.sk-label input.sk-toggleable__control:checked~label.sk-toggleable__label {background-color: #d4ebff;}#sk-container-id-10 input.sk-hidden--visually {border: 0;clip: rect(1px 1px 1px 1px);clip: rect(1px, 1px, 1px, 1px);height: 1px;margin: -1px;overflow: hidden;padding: 0;position: absolute;width: 1px;}#sk-container-id-10 div.sk-estimator {font-family: monospace;background-color: #f0f8ff;border: 1px dotted black;border-radius: 0.25em;box-sizing: border-box;margin-bottom: 0.5em;}#sk-container-id-10 div.sk-estimator:hover {background-color: #d4ebff;}#sk-container-id-10 div.sk-parallel-item::after {content: \"\";width: 100%;border-bottom: 1px solid gray;flex-grow: 1;}#sk-container-id-10 div.sk-label:hover label.sk-toggleable__label {background-color: #d4ebff;}#sk-container-id-10 div.sk-serial::before {content: \"\";position: absolute;border-left: 1px solid gray;box-sizing: border-box;top: 0;bottom: 0;left: 50%;z-index: 0;}#sk-container-id-10 div.sk-serial {display: flex;flex-direction: column;align-items: center;background-color: white;padding-right: 0.2em;padding-left: 0.2em;position: relative;}#sk-container-id-10 div.sk-item {position: relative;z-index: 1;}#sk-container-id-10 div.sk-parallel {display: flex;align-items: stretch;justify-content: center;background-color: white;position: relative;}#sk-container-id-10 div.sk-item::before, #sk-container-id-10 div.sk-parallel-item::before {content: \"\";position: absolute;border-left: 1px solid gray;box-sizing: border-box;top: 0;bottom: 0;left: 50%;z-index: -1;}#sk-container-id-10 div.sk-parallel-item {display: flex;flex-direction: column;z-index: 1;position: relative;background-color: white;}#sk-container-id-10 div.sk-parallel-item:first-child::after {align-self: flex-end;width: 50%;}#sk-container-id-10 div.sk-parallel-item:last-child::after {align-self: flex-start;width: 50%;}#sk-container-id-10 div.sk-parallel-item:only-child::after {width: 0;}#sk-container-id-10 div.sk-dashed-wrapped {border: 1px dashed gray;margin: 0 0.4em 0.5em 0.4em;box-sizing: border-box;padding-bottom: 0.4em;background-color: white;}#sk-container-id-10 div.sk-label label {font-family: monospace;font-weight: bold;display: inline-block;line-height: 1.2em;}#sk-container-id-10 div.sk-label-container {text-align: center;}#sk-container-id-10 div.sk-container {/* jupyter's `normalize.less` sets `[hidden] { display: none; }` but bootstrap.min.css set `[hidden] { display: none !important; }` so we also need the `!important` here to be able to override the default hidden behavior on the sphinx rendered scikit-learn.org. See: https://github.com/scikit-learn/scikit-learn/issues/21755 */display: inline-block !important;position: relative;}#sk-container-id-10 div.sk-text-repr-fallback {display: none;}</style><div id=\"sk-container-id-10\" class=\"sk-top-container\"><div class=\"sk-text-repr-fallback\"><pre>SGDClassifier(loss=&#x27;log_loss&#x27;)</pre><b>In a Jupyter environment, please rerun this cell to show the HTML representation or trust the notebook. <br />On GitHub, the HTML representation is unable to render, please try loading this page with nbviewer.org.</b></div><div class=\"sk-container\" hidden><div class=\"sk-item\"><div class=\"sk-estimator sk-toggleable\"><input class=\"sk-toggleable__control sk-hidden--visually\" id=\"sk-estimator-id-10\" type=\"checkbox\" checked><label for=\"sk-estimator-id-10\" class=\"sk-toggleable__label sk-toggleable__label-arrow\">SGDClassifier</label><div class=\"sk-toggleable__content\"><pre>SGDClassifier(loss=&#x27;log_loss&#x27;)</pre></div></div></div></div></div>"
            ],
            "text/plain": [
              "SGDClassifier(loss='log_loss')"
            ]
          },
          "execution_count": 69,
          "metadata": {},
          "output_type": "execute_result"
        }
      ],
      "source": [
        "# SGD\n",
        "sgd = SGDClassifier(loss='log_loss')\n",
        "sgd.fit(X, y)"
      ]
    },
    {
      "cell_type": "code",
      "execution_count": 62,
      "metadata": {},
      "outputs": [
        {
          "data": {
            "text/html": [
              "<style>#sk-container-id-6 {color: black;background-color: white;}#sk-container-id-6 pre{padding: 0;}#sk-container-id-6 div.sk-toggleable {background-color: white;}#sk-container-id-6 label.sk-toggleable__label {cursor: pointer;display: block;width: 100%;margin-bottom: 0;padding: 0.3em;box-sizing: border-box;text-align: center;}#sk-container-id-6 label.sk-toggleable__label-arrow:before {content: \"▸\";float: left;margin-right: 0.25em;color: #696969;}#sk-container-id-6 label.sk-toggleable__label-arrow:hover:before {color: black;}#sk-container-id-6 div.sk-estimator:hover label.sk-toggleable__label-arrow:before {color: black;}#sk-container-id-6 div.sk-toggleable__content {max-height: 0;max-width: 0;overflow: hidden;text-align: left;background-color: #f0f8ff;}#sk-container-id-6 div.sk-toggleable__content pre {margin: 0.2em;color: black;border-radius: 0.25em;background-color: #f0f8ff;}#sk-container-id-6 input.sk-toggleable__control:checked~div.sk-toggleable__content {max-height: 200px;max-width: 100%;overflow: auto;}#sk-container-id-6 input.sk-toggleable__control:checked~label.sk-toggleable__label-arrow:before {content: \"▾\";}#sk-container-id-6 div.sk-estimator input.sk-toggleable__control:checked~label.sk-toggleable__label {background-color: #d4ebff;}#sk-container-id-6 div.sk-label input.sk-toggleable__control:checked~label.sk-toggleable__label {background-color: #d4ebff;}#sk-container-id-6 input.sk-hidden--visually {border: 0;clip: rect(1px 1px 1px 1px);clip: rect(1px, 1px, 1px, 1px);height: 1px;margin: -1px;overflow: hidden;padding: 0;position: absolute;width: 1px;}#sk-container-id-6 div.sk-estimator {font-family: monospace;background-color: #f0f8ff;border: 1px dotted black;border-radius: 0.25em;box-sizing: border-box;margin-bottom: 0.5em;}#sk-container-id-6 div.sk-estimator:hover {background-color: #d4ebff;}#sk-container-id-6 div.sk-parallel-item::after {content: \"\";width: 100%;border-bottom: 1px solid gray;flex-grow: 1;}#sk-container-id-6 div.sk-label:hover label.sk-toggleable__label {background-color: #d4ebff;}#sk-container-id-6 div.sk-serial::before {content: \"\";position: absolute;border-left: 1px solid gray;box-sizing: border-box;top: 0;bottom: 0;left: 50%;z-index: 0;}#sk-container-id-6 div.sk-serial {display: flex;flex-direction: column;align-items: center;background-color: white;padding-right: 0.2em;padding-left: 0.2em;position: relative;}#sk-container-id-6 div.sk-item {position: relative;z-index: 1;}#sk-container-id-6 div.sk-parallel {display: flex;align-items: stretch;justify-content: center;background-color: white;position: relative;}#sk-container-id-6 div.sk-item::before, #sk-container-id-6 div.sk-parallel-item::before {content: \"\";position: absolute;border-left: 1px solid gray;box-sizing: border-box;top: 0;bottom: 0;left: 50%;z-index: -1;}#sk-container-id-6 div.sk-parallel-item {display: flex;flex-direction: column;z-index: 1;position: relative;background-color: white;}#sk-container-id-6 div.sk-parallel-item:first-child::after {align-self: flex-end;width: 50%;}#sk-container-id-6 div.sk-parallel-item:last-child::after {align-self: flex-start;width: 50%;}#sk-container-id-6 div.sk-parallel-item:only-child::after {width: 0;}#sk-container-id-6 div.sk-dashed-wrapped {border: 1px dashed gray;margin: 0 0.4em 0.5em 0.4em;box-sizing: border-box;padding-bottom: 0.4em;background-color: white;}#sk-container-id-6 div.sk-label label {font-family: monospace;font-weight: bold;display: inline-block;line-height: 1.2em;}#sk-container-id-6 div.sk-label-container {text-align: center;}#sk-container-id-6 div.sk-container {/* jupyter's `normalize.less` sets `[hidden] { display: none; }` but bootstrap.min.css set `[hidden] { display: none !important; }` so we also need the `!important` here to be able to override the default hidden behavior on the sphinx rendered scikit-learn.org. See: https://github.com/scikit-learn/scikit-learn/issues/21755 */display: inline-block !important;position: relative;}#sk-container-id-6 div.sk-text-repr-fallback {display: none;}</style><div id=\"sk-container-id-6\" class=\"sk-top-container\"><div class=\"sk-text-repr-fallback\"><pre>BernoulliNB()</pre><b>In a Jupyter environment, please rerun this cell to show the HTML representation or trust the notebook. <br />On GitHub, the HTML representation is unable to render, please try loading this page with nbviewer.org.</b></div><div class=\"sk-container\" hidden><div class=\"sk-item\"><div class=\"sk-estimator sk-toggleable\"><input class=\"sk-toggleable__control sk-hidden--visually\" id=\"sk-estimator-id-6\" type=\"checkbox\" checked><label for=\"sk-estimator-id-6\" class=\"sk-toggleable__label sk-toggleable__label-arrow\">BernoulliNB</label><div class=\"sk-toggleable__content\"><pre>BernoulliNB()</pre></div></div></div></div></div>"
            ],
            "text/plain": [
              "BernoulliNB()"
            ]
          },
          "execution_count": 62,
          "metadata": {},
          "output_type": "execute_result"
        }
      ],
      "source": [
        "# BernoulliNB\n",
        "bernoulliNB = BernoulliNB()\n",
        "bernoulliNB.fit(X, y)"
      ]
    },
    {
      "cell_type": "code",
      "execution_count": 64,
      "metadata": {},
      "outputs": [
        {
          "data": {
            "text/html": [
              "<style>#sk-container-id-8 {color: black;background-color: white;}#sk-container-id-8 pre{padding: 0;}#sk-container-id-8 div.sk-toggleable {background-color: white;}#sk-container-id-8 label.sk-toggleable__label {cursor: pointer;display: block;width: 100%;margin-bottom: 0;padding: 0.3em;box-sizing: border-box;text-align: center;}#sk-container-id-8 label.sk-toggleable__label-arrow:before {content: \"▸\";float: left;margin-right: 0.25em;color: #696969;}#sk-container-id-8 label.sk-toggleable__label-arrow:hover:before {color: black;}#sk-container-id-8 div.sk-estimator:hover label.sk-toggleable__label-arrow:before {color: black;}#sk-container-id-8 div.sk-toggleable__content {max-height: 0;max-width: 0;overflow: hidden;text-align: left;background-color: #f0f8ff;}#sk-container-id-8 div.sk-toggleable__content pre {margin: 0.2em;color: black;border-radius: 0.25em;background-color: #f0f8ff;}#sk-container-id-8 input.sk-toggleable__control:checked~div.sk-toggleable__content {max-height: 200px;max-width: 100%;overflow: auto;}#sk-container-id-8 input.sk-toggleable__control:checked~label.sk-toggleable__label-arrow:before {content: \"▾\";}#sk-container-id-8 div.sk-estimator input.sk-toggleable__control:checked~label.sk-toggleable__label {background-color: #d4ebff;}#sk-container-id-8 div.sk-label input.sk-toggleable__control:checked~label.sk-toggleable__label {background-color: #d4ebff;}#sk-container-id-8 input.sk-hidden--visually {border: 0;clip: rect(1px 1px 1px 1px);clip: rect(1px, 1px, 1px, 1px);height: 1px;margin: -1px;overflow: hidden;padding: 0;position: absolute;width: 1px;}#sk-container-id-8 div.sk-estimator {font-family: monospace;background-color: #f0f8ff;border: 1px dotted black;border-radius: 0.25em;box-sizing: border-box;margin-bottom: 0.5em;}#sk-container-id-8 div.sk-estimator:hover {background-color: #d4ebff;}#sk-container-id-8 div.sk-parallel-item::after {content: \"\";width: 100%;border-bottom: 1px solid gray;flex-grow: 1;}#sk-container-id-8 div.sk-label:hover label.sk-toggleable__label {background-color: #d4ebff;}#sk-container-id-8 div.sk-serial::before {content: \"\";position: absolute;border-left: 1px solid gray;box-sizing: border-box;top: 0;bottom: 0;left: 50%;z-index: 0;}#sk-container-id-8 div.sk-serial {display: flex;flex-direction: column;align-items: center;background-color: white;padding-right: 0.2em;padding-left: 0.2em;position: relative;}#sk-container-id-8 div.sk-item {position: relative;z-index: 1;}#sk-container-id-8 div.sk-parallel {display: flex;align-items: stretch;justify-content: center;background-color: white;position: relative;}#sk-container-id-8 div.sk-item::before, #sk-container-id-8 div.sk-parallel-item::before {content: \"\";position: absolute;border-left: 1px solid gray;box-sizing: border-box;top: 0;bottom: 0;left: 50%;z-index: -1;}#sk-container-id-8 div.sk-parallel-item {display: flex;flex-direction: column;z-index: 1;position: relative;background-color: white;}#sk-container-id-8 div.sk-parallel-item:first-child::after {align-self: flex-end;width: 50%;}#sk-container-id-8 div.sk-parallel-item:last-child::after {align-self: flex-start;width: 50%;}#sk-container-id-8 div.sk-parallel-item:only-child::after {width: 0;}#sk-container-id-8 div.sk-dashed-wrapped {border: 1px dashed gray;margin: 0 0.4em 0.5em 0.4em;box-sizing: border-box;padding-bottom: 0.4em;background-color: white;}#sk-container-id-8 div.sk-label label {font-family: monospace;font-weight: bold;display: inline-block;line-height: 1.2em;}#sk-container-id-8 div.sk-label-container {text-align: center;}#sk-container-id-8 div.sk-container {/* jupyter's `normalize.less` sets `[hidden] { display: none; }` but bootstrap.min.css set `[hidden] { display: none !important; }` so we also need the `!important` here to be able to override the default hidden behavior on the sphinx rendered scikit-learn.org. See: https://github.com/scikit-learn/scikit-learn/issues/21755 */display: inline-block !important;position: relative;}#sk-container-id-8 div.sk-text-repr-fallback {display: none;}</style><div id=\"sk-container-id-8\" class=\"sk-top-container\"><div class=\"sk-text-repr-fallback\"><pre>MLPClassifier(max_iter=300)</pre><b>In a Jupyter environment, please rerun this cell to show the HTML representation or trust the notebook. <br />On GitHub, the HTML representation is unable to render, please try loading this page with nbviewer.org.</b></div><div class=\"sk-container\" hidden><div class=\"sk-item\"><div class=\"sk-estimator sk-toggleable\"><input class=\"sk-toggleable__control sk-hidden--visually\" id=\"sk-estimator-id-8\" type=\"checkbox\" checked><label for=\"sk-estimator-id-8\" class=\"sk-toggleable__label sk-toggleable__label-arrow\">MLPClassifier</label><div class=\"sk-toggleable__content\"><pre>MLPClassifier(max_iter=300)</pre></div></div></div></div></div>"
            ],
            "text/plain": [
              "MLPClassifier(max_iter=300)"
            ]
          },
          "execution_count": 64,
          "metadata": {},
          "output_type": "execute_result"
        }
      ],
      "source": [
        "# MLP\n",
        "mlp = MLPClassifier(max_iter=300)\n",
        "mlp.fit(X, y)"
      ]
    },
    {
      "cell_type": "code",
      "execution_count": 65,
      "metadata": {},
      "outputs": [],
      "source": [
        "# Let's test the models\n",
        "columns = X.columns.tolist()"
      ]
    },
    {
      "cell_type": "code",
      "execution_count": 89,
      "metadata": {},
      "outputs": [
        {
          "data": {
            "text/plain": [
              "['lesions_peau_desquame',\n",
              " 'spasmes_msk',\n",
              " 'diplopie',\n",
              " 'fatig_mod',\n",
              " 'drogues_IV',\n",
              " 'trismus',\n",
              " 'ww_bouffe',\n",
              " 'fievre',\n",
              " 'friss',\n",
              " 'cont_coq',\n",
              " 'stridor',\n",
              " 'perte_poids',\n",
              " 'lesions_peau_elevee',\n",
              " 'Z99.2',\n",
              " 'j06.9',\n",
              " 'ebolacase',\n",
              " 'footnumb',\n",
              " 'momasthma',\n",
              " 'horm1',\n",
              " 'spasme_trapeze',\n",
              " 'psy_depers',\n",
              " 'contact_allergie']"
            ]
          },
          "execution_count": 89,
          "metadata": {},
          "output_type": "execute_result"
        }
      ],
      "source": [
        "import random\n",
        "# random number of symptoms but  not equal to the number of symptoms in the dataset\n",
        "symptoms_num = random.randint(1, 30)\n",
        "# random symptoms\n",
        "symptoms = []\n",
        "for i in range(symptoms_num):\n",
        "    symptoms.append(columns[random.randint(0, len(columns)-1)])\n",
        "# we need to create a dataframe with the same columns as the dataset\n",
        "symptoms_df = pd.DataFrame(columns=columns)\n",
        "# we need to add the symptoms to the dataframe\n",
        "symptoms_df.loc[0] = 0\n",
        "for symptom in symptoms:\n",
        "    symptoms_df[symptom] = 1\n",
        "\n",
        "symptoms"
      ]
    },
    {
      "cell_type": "code",
      "execution_count": 90,
      "metadata": {},
      "outputs": [
        {
          "data": {
            "text/html": [
              "<div>\n",
              "<style scoped>\n",
              "    .dataframe tbody tr th:only-of-type {\n",
              "        vertical-align: middle;\n",
              "    }\n",
              "\n",
              "    .dataframe tbody tr th {\n",
              "        vertical-align: top;\n",
              "    }\n",
              "\n",
              "    .dataframe thead th {\n",
              "        text-align: right;\n",
              "    }\n",
              "</style>\n",
              "<table border=\"1\" class=\"dataframe\">\n",
              "  <thead>\n",
              "    <tr style=\"text-align: right;\">\n",
              "      <th></th>\n",
              "      <th>model</th>\n",
              "      <th>condition</th>\n",
              "      <th>probability</th>\n",
              "    </tr>\n",
              "  </thead>\n",
              "  <tbody>\n",
              "    <tr>\n",
              "      <th>0</th>\n",
              "      <td>KNeighborsClassifier</td>\n",
              "      <td>Coqueluche</td>\n",
              "      <td>0.200000</td>\n",
              "    </tr>\n",
              "    <tr>\n",
              "      <th>1</th>\n",
              "      <td>SGDClassifier</td>\n",
              "      <td>Anaphylaxie</td>\n",
              "      <td>0.991431</td>\n",
              "    </tr>\n",
              "    <tr>\n",
              "      <th>2</th>\n",
              "      <td>BernoulliNB</td>\n",
              "      <td>Laryngospasme</td>\n",
              "      <td>0.606141</td>\n",
              "    </tr>\n",
              "    <tr>\n",
              "      <th>3</th>\n",
              "      <td>MLPClassifier</td>\n",
              "      <td>Laryngospasme</td>\n",
              "      <td>0.282142</td>\n",
              "    </tr>\n",
              "  </tbody>\n",
              "</table>\n",
              "</div>"
            ],
            "text/plain": [
              "                  model      condition  probability\n",
              "0  KNeighborsClassifier     Coqueluche     0.200000\n",
              "1         SGDClassifier    Anaphylaxie     0.991431\n",
              "2           BernoulliNB  Laryngospasme     0.606141\n",
              "3         MLPClassifier  Laryngospasme     0.282142"
            ]
          },
          "execution_count": 90,
          "metadata": {},
          "output_type": "execute_result"
        }
      ],
      "source": [
        "# list results for all the models\n",
        "results = pd.DataFrame(columns=['model', 'condition', 'probability'])\n",
        "for model in [knn, sgd, bernoulliNB, mlp]:\n",
        "    # predict the condition\n",
        "    condition = model.predict(symptoms_df)[0]\n",
        "    # predict the probability of the condition\n",
        "    probability = max(model.predict_proba(symptoms_df)[0])\n",
        "    # add the results to the dataframe\n",
        "    results = pd.concat([results, pd.DataFrame([[model.__class__.__name__, condition, probability]], columns=['model', 'condition', 'probability'])], ignore_index=True)\n",
        "    \n",
        "results"
      ]
    },
    {
      "cell_type": "code",
      "execution_count": null,
      "metadata": {},
      "outputs": [],
      "source": []
    }
  ],
  "metadata": {
    "colab": {
      "provenance": []
    },
    "kernelspec": {
      "display_name": "Python 3",
      "name": "python3"
    },
    "language_info": {
      "codemirror_mode": {
        "name": "ipython",
        "version": 3
      },
      "file_extension": ".py",
      "mimetype": "text/x-python",
      "name": "python",
      "nbconvert_exporter": "python",
      "pygments_lexer": "ipython3",
      "version": "3.9.13"
    }
  },
  "nbformat": 4,
  "nbformat_minor": 0
}
